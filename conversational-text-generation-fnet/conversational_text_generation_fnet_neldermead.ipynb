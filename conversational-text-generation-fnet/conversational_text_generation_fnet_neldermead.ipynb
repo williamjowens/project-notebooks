{
  "nbformat": 4,
  "nbformat_minor": 0,
  "metadata": {
    "colab": {
      "provenance": [],
      "toc_visible": true,
      "machine_shape": "hm",
      "gpuType": "T4"
    },
    "kernelspec": {
      "name": "python3",
      "display_name": "Python 3"
    },
    "language_info": {
      "name": "python"
    },
    "accelerator": "GPU"
  },
  "cells": [
    {
      "cell_type": "markdown",
      "source": [
        "# Installs & Imports"
      ],
      "metadata": {
        "id": "jIQ9X6Z4PRxa"
      }
    },
    {
      "cell_type": "code",
      "source": [
        "!pip install keras-nlp -q"
      ],
      "metadata": {
        "id": "SmTzhPdaopqs",
        "colab": {
          "base_uri": "https://localhost:8080/"
        },
        "outputId": "e20cc535-c67a-433e-d467-2eb412d9f18b"
      },
      "execution_count": 1,
      "outputs": [
        {
          "output_type": "stream",
          "name": "stdout",
          "text": [
            "\u001b[2K     \u001b[90m━━━━━━━━━━━━━━━━━━━━━━━━━━━━━━━━━━━━━━━━\u001b[0m \u001b[32m415.4/415.4 kB\u001b[0m \u001b[31m5.2 MB/s\u001b[0m eta \u001b[36m0:00:00\u001b[0m\n",
            "\u001b[2K     \u001b[90m━━━━━━━━━━━━━━━━━━━━━━━━━━━━━━━━━━━━━━━━\u001b[0m \u001b[32m950.8/950.8 kB\u001b[0m \u001b[31m53.9 MB/s\u001b[0m eta \u001b[36m0:00:00\u001b[0m\n",
            "\u001b[2K     \u001b[90m━━━━━━━━━━━━━━━━━━━━━━━━━━━━━━━━━━━━━━━━\u001b[0m \u001b[32m5.2/5.2 MB\u001b[0m \u001b[31m84.9 MB/s\u001b[0m eta \u001b[36m0:00:00\u001b[0m\n",
            "\u001b[?25h"
          ]
        }
      ]
    },
    {
      "cell_type": "code",
      "source": [
        "# Data manipulation and visualization\n",
        "import numpy as np\n",
        "import pandas as pd\n",
        "import matplotlib.pyplot as plt\n",
        "import seaborn as sns\n",
        "%matplotlib inline\n",
        "\n",
        "# Standard imports\n",
        "import math\n",
        "import datetime\n",
        "import os\n",
        "import random\n",
        "import json\n",
        "\n",
        "# TensorFlow and Keras\n",
        "import tensorflow as tf\n",
        "from tensorflow import keras\n",
        "from tensorflow.keras import (\n",
        "    layers, models, preprocessing, utils, callbacks, optimizers\n",
        ")\n",
        "from tensorflow.data import Dataset\n",
        "import keras_nlp\n",
        "\n",
        "# Set random seed for reproducibility\n",
        "SEED = 1234\n",
        "random.seed(SEED)\n",
        "np.random.seed(SEED)\n",
        "tf.random.set_seed(SEED)"
      ],
      "metadata": {
        "id": "l3qWn8BMPcFB",
        "colab": {
          "base_uri": "https://localhost:8080/"
        },
        "outputId": "e6efe498-c62b-4d62-f0ae-543fd83cd041"
      },
      "execution_count": 2,
      "outputs": [
        {
          "output_type": "stream",
          "name": "stdout",
          "text": [
            "Using TensorFlow backend\n"
          ]
        }
      ]
    },
    {
      "cell_type": "markdown",
      "source": [
        "# Loading the Data"
      ],
      "metadata": {
        "id": "UHTyisVwPkwd"
      }
    },
    {
      "cell_type": "code",
      "source": [
        "# Download and extract the dataset\n",
        "dataset_url = 'http://www.cs.cornell.edu/~cristian/data/cornell_movie_dialogs_corpus.zip'\n",
        "path_to_zip = utils.get_file(\"cornell_movie_dialogs.zip\", origin=dataset_url, extract=True)\n",
        "path_to_dataset = os.path.join(os.path.dirname(path_to_zip), \"cornell movie-dialogs corpus\")\n",
        "path_to_movie_lines = os.path.join(path_to_dataset, \"movie_lines.txt\")\n",
        "path_to_movie_conversations = os.path.join(path_to_dataset, \"movie_conversations.txt\")"
      ],
      "metadata": {
        "id": "6OEa-VjXPktm",
        "colab": {
          "base_uri": "https://localhost:8080/"
        },
        "outputId": "1ffbb326-b4fb-433e-ac3a-6a90e2bcfad9"
      },
      "execution_count": 3,
      "outputs": [
        {
          "output_type": "stream",
          "name": "stdout",
          "text": [
            "Downloading data from http://www.cs.cornell.edu/~cristian/data/cornell_movie_dialogs_corpus.zip\n",
            "9916637/9916637 [==============================] - 2s 0us/step\n"
          ]
        }
      ]
    },
    {
      "cell_type": "code",
      "source": [
        "# Function to load conversations\n",
        "def load_conversations():\n",
        "    # Load and map the movie lines with their IDs\n",
        "    id_to_line = {}\n",
        "    with open(path_to_movie_lines, encoding='utf-8', errors='ignore') as file:\n",
        "        lines = file.readlines()\n",
        "    for line in lines:\n",
        "        parts = line.replace(\"\\n\", \"\").split(\" +++$+++ \")\n",
        "        id_to_line[parts[0]] = parts[4]\n",
        "\n",
        "    # Process conversations and pair lines\n",
        "    inputs, outputs = [], []\n",
        "    # Initialize the sample count\n",
        "    sample_count = 0\n",
        "    with open(path_to_movie_conversations, 'r', encoding='utf-8') as file:\n",
        "        lines = file.readlines()\n",
        "    for line in lines:\n",
        "        parts = line.replace(\"\\n\", \"\").split(\" +++$+++ \")\n",
        "        conversation = [line[1:-1] for line in parts[3][1:-1].split(\", \")]\n",
        "        for i in range(len(conversation) - 1):\n",
        "            inputs.append(id_to_line[conversation[i]])\n",
        "            outputs.append(id_to_line[conversation[i + 1]])\n",
        "            # Increment sample count\n",
        "            sample_count += 1\n",
        "            if len(inputs) >= MAX_SAMPLES:\n",
        "                return inputs, outputs, sample_count\n",
        "    return inputs, outputs, sample_count"
      ],
      "metadata": {
        "id": "ymFX8ZrEPkq9"
      },
      "execution_count": 4,
      "outputs": []
    },
    {
      "cell_type": "code",
      "source": [
        "# Load and process conversations\n",
        "MAX_SAMPLES = 100000\n",
        "inputs, outputs, sample_count = load_conversations()\n",
        "print(f\"Total number of samples: {sample_count}\")"
      ],
      "metadata": {
        "colab": {
          "base_uri": "https://localhost:8080/"
        },
        "id": "O1Gejq-_PkoX",
        "outputId": "b735d2ef-a06a-4745-8f5d-eba75798a9d8"
      },
      "execution_count": 5,
      "outputs": [
        {
          "output_type": "stream",
          "name": "stdout",
          "text": [
            "Total number of samples: 100000\n"
          ]
        }
      ]
    },
    {
      "cell_type": "markdown",
      "source": [
        "# Splitting the Data"
      ],
      "metadata": {
        "id": "1qoqAiGAWVIX"
      }
    },
    {
      "cell_type": "code",
      "source": [
        "# Split the data into training and validation sets\n",
        "train_dataset = Dataset.from_tensor_slices((inputs[:80000], outputs[:80000]))\n",
        "val_dataset = Dataset.from_tensor_slices((inputs[80000:], outputs[80000:]))"
      ],
      "metadata": {
        "id": "KSwvhugaPkdM"
      },
      "execution_count": 6,
      "outputs": []
    },
    {
      "cell_type": "code",
      "source": [
        "# Verify the dataset shapes\n",
        "train_to_numpy = list(train_dataset.as_numpy_iterator())\n",
        "train_shape = tf.shape(train_to_numpy)\n",
        "print(f\"Training dataset shape:\")\n",
        "print(train_shape)\n",
        "print(\"\\n\")\n",
        "\n",
        "val_to_numpy = list(val_dataset.as_numpy_iterator())\n",
        "val_shape = tf.shape(val_to_numpy)\n",
        "print(f\"Validation dataset shape:\")\n",
        "print(val_shape)\n",
        "print(\"\\n\")"
      ],
      "metadata": {
        "colab": {
          "base_uri": "https://localhost:8080/"
        },
        "id": "aOXzBJunWkMY",
        "outputId": "36c5e869-dfc2-4778-8d21-1b964590848d"
      },
      "execution_count": 7,
      "outputs": [
        {
          "output_type": "stream",
          "name": "stdout",
          "text": [
            "Training dataset shape:\n",
            "tf.Tensor([80000     2], shape=(2,), dtype=int32)\n",
            "\n",
            "\n",
            "Validation dataset shape:\n",
            "tf.Tensor([20000     2], shape=(2,), dtype=int32)\n",
            "\n",
            "\n"
          ]
        }
      ]
    },
    {
      "cell_type": "code",
      "source": [
        "# Print the first five training examples\n",
        "print(f\"Training Examples:\")\n",
        "for i in range(5):\n",
        "    print(f\"Input: {inputs[i]}\")\n",
        "    print(f\"Output: {outputs[i]}\")\n",
        "    print()\n",
        "\n",
        "# Print the first five validation examples\n",
        "print(f\"Validation Examples:\")\n",
        "for i in range(5):\n",
        "    print(f\"Input: {inputs[80000+i]}\")\n",
        "    print(f\"Output: {outputs[80000+i]}\")\n",
        "    print()"
      ],
      "metadata": {
        "colab": {
          "base_uri": "https://localhost:8080/"
        },
        "id": "WY1UE0b7V2s-",
        "outputId": "cb8ddfbf-a61c-40b9-ca35-7a12386def8c"
      },
      "execution_count": 8,
      "outputs": [
        {
          "output_type": "stream",
          "name": "stdout",
          "text": [
            "Training Examples:\n",
            "Input: Can we make this quick?  Roxanne Korrine and Andrew Barrett are having an incredibly horrendous public break- up on the quad.  Again.\n",
            "Output: Well, I thought we'd start with pronunciation, if that's okay with you.\n",
            "\n",
            "Input: Well, I thought we'd start with pronunciation, if that's okay with you.\n",
            "Output: Not the hacking and gagging and spitting part.  Please.\n",
            "\n",
            "Input: Not the hacking and gagging and spitting part.  Please.\n",
            "Output: Okay... then how 'bout we try out some French cuisine.  Saturday?  Night?\n",
            "\n",
            "Input: You're asking me out.  That's so cute. What's your name again?\n",
            "Output: Forget it.\n",
            "\n",
            "Input: No, no, it's my fault -- we didn't have a proper introduction ---\n",
            "Output: Cameron.\n",
            "\n",
            "Validation Examples:\n",
            "Input: I know what this is...I picked you up when I was drunk and you probably thought I'm just fucked up enough to fall for this. But the thing is I know what I'm doing when I drink. I just usually don't care. Right now, I do though. And I want you out. Now.\n",
            "Output: It's December 25th, 1993 today.\n",
            "\n",
            "Input: It's December 25th, 1993 today.\n",
            "Output: No, it's not. [Beat] It's December 25th, 2004.\n",
            "\n",
            "Input: I'm telling you I don't care what time you think you're in. You're not William Starks. [Beat] I don't believe in many things, but I believe in death. And it doesn't give back what it takes. So whoever you are...I did a nice thing, you've made me regret it enough already, so please, just leave.\n",
            "Output: I'll leave. But look at me. Look at my face, Jackie. I'm not lying. I met you and your mother. I told you then that I'd lost my memory. [Beat] There was no one for miles around so I know you know there's no way I could have known that from a pair of dog tags you had lying around.\n",
            "\n",
            "Input: I'll leave. But look at me. Look at my face, Jackie. I'm not lying. I met you and your mother. I told you then that I'd lost my memory. [Beat] There was no one for miles around so I know you know there's no way I could have known that from a pair of dog tags you had lying around.\n",
            "Output: Please...\n",
            "\n",
            "Input: The Jacket. That's what they call it, right?\n",
            "Output: Yeah.\n",
            "\n"
          ]
        }
      ]
    },
    {
      "cell_type": "markdown",
      "source": [
        "# Preprocessing the Data"
      ],
      "metadata": {
        "id": "2Jrfl9EHUhg9"
      }
    },
    {
      "cell_type": "markdown",
      "source": [
        "## Text Cleaning Function"
      ],
      "metadata": {
        "id": "Tij1cQ5QZ52I"
      }
    },
    {
      "cell_type": "code",
      "source": [
        "# Function to preprocess the text\n",
        "def preprocess_text(sequence):\n",
        "    # Convert to lowercase\n",
        "    sequence = tf.strings.lower(sequence)\n",
        "    # Add space around punctuation and replace multiple spaces with a single space\n",
        "    sequence = tf.strings.regex_replace(sequence, r\"([?.!,])\", r\" \\1 \")\n",
        "    # Replace multiple spaces with a single space\n",
        "    sequence = tf.strings.regex_replace(sequence, r\"\\s\\s+\", \" \")\n",
        "    # Allow English characters and digits, remove other characters\n",
        "    sequence = tf.strings.regex_replace(sequence, r\"[^a-z0-9?.!,]+\", \" \")\n",
        "    sequence = tf.strings.strip(sequence)\n",
        "    # Add BOS and EOS tokens\n",
        "    sequence = tf.strings.join([\"[BOS]\", sequence, \"[EOS]\"], separator=\" \")\n",
        "    return sequence"
      ],
      "metadata": {
        "id": "-NlMqzC5Pkip"
      },
      "execution_count": 9,
      "outputs": []
    },
    {
      "cell_type": "markdown",
      "source": [
        "## Text Vectorization Layer"
      ],
      "metadata": {
        "id": "-iGDNcsbZ830"
      }
    },
    {
      "cell_type": "code",
      "source": [
        "VOCAB_SIZE = 50000\n",
        "MAX_LENGTH = 40\n",
        "\n",
        "# Create the vectorizer\n",
        "vectorizer = layers.TextVectorization(\n",
        "    max_tokens=VOCAB_SIZE,\n",
        "    standardize=preprocess_text,\n",
        "    output_mode='int',\n",
        "    output_sequence_length=MAX_LENGTH\n",
        ")\n",
        "\n",
        "# Adapt the vectorizer to the inputs and outputs\n",
        "vectorizer.adapt(Dataset.from_tensor_slices((inputs + outputs)).batch(1024))"
      ],
      "metadata": {
        "id": "SuO8U7mgdVDg"
      },
      "execution_count": 10,
      "outputs": []
    },
    {
      "cell_type": "code",
      "source": [
        "# Function to vectorize the text\n",
        "def vectorize_text(inputs, outputs):\n",
        "    inputs, outputs = vectorizer(inputs), vectorizer(outputs)\n",
        "    # Add an extra padding token to the right side to match output shape\n",
        "    outputs = tf.pad(outputs, [[0, 1]])\n",
        "    return (\n",
        "        {\"encoder_inputs\": inputs, \"decoder_inputs\": outputs[:-1]},\n",
        "        {\"outputs\": outputs[1:]},\n",
        "    )"
      ],
      "metadata": {
        "id": "xUuBi2jYw0Og"
      },
      "execution_count": 11,
      "outputs": []
    },
    {
      "cell_type": "markdown",
      "source": [
        "## TensorFlow Datasets"
      ],
      "metadata": {
        "id": "_0Vpqm5CaApy"
      }
    },
    {
      "cell_type": "code",
      "source": [
        "BUFFER_SIZE = 100000\n",
        "BATCH_SIZE = 64\n",
        "\n",
        "# Tokenize and pad the datasets\n",
        "train_dataset = train_dataset.map(vectorize_text, num_parallel_calls=tf.data.AUTOTUNE)\n",
        "val_dataset = val_dataset.map(vectorize_text, num_parallel_calls=tf.data.AUTOTUNE)\n",
        "\n",
        "# Configure datasets for performance\n",
        "train_dataset = (\n",
        "    train_dataset.cache()\n",
        "    .shuffle(BUFFER_SIZE)\n",
        "    .batch(BATCH_SIZE)\n",
        "    .prefetch(tf.data.AUTOTUNE)\n",
        ")\n",
        "\n",
        "val_dataset = (\n",
        "    val_dataset.cache()\n",
        "    .batch(BATCH_SIZE)\n",
        "    .prefetch(tf.data.AUTOTUNE)\n",
        ")"
      ],
      "metadata": {
        "id": "35zUbq4eYbLX"
      },
      "execution_count": 12,
      "outputs": []
    },
    {
      "cell_type": "code",
      "source": [
        "# Print tokenized training dataset examples\n",
        "for example in train_dataset.take(1):\n",
        "    print(example)"
      ],
      "metadata": {
        "colab": {
          "base_uri": "https://localhost:8080/"
        },
        "id": "2os-7gHyw-mC",
        "outputId": "11654707-38ae-4dc3-a0b3-78c4dcaa84ff"
      },
      "execution_count": 13,
      "outputs": [
        {
          "output_type": "stream",
          "name": "stdout",
          "text": [
            "({'encoder_inputs': <tf.Tensor: shape=(64, 40), dtype=int64, numpy=\n",
            "array([[   4,    7,   48, ...,    0,    0,    0],\n",
            "       [   4, 8294,    2, ...,    0,    0,    0],\n",
            "       [   4,   18,   26, ...,    0,    0,    0],\n",
            "       ...,\n",
            "       [   4,   52,    6, ...,    0,    0,    0],\n",
            "       [   4, 2430,    9, ...,    0,    0,    0],\n",
            "       [   4,   80,    8, ...,    0,    0,    0]])>, 'decoder_inputs': <tf.Tensor: shape=(64, 40), dtype=int64, numpy=\n",
            "array([[   4,   22,  159, ...,    0,    0,    0],\n",
            "       [   4, 1065,   19, ...,    0,    0,    0],\n",
            "       [   4,   26,   34, ...,    0,    0,    0],\n",
            "       ...,\n",
            "       [   4,   73,   19, ...,    0,    0,    0],\n",
            "       [   4,  141,   21, ...,    0,    0,    0],\n",
            "       [   4,  116,    2, ...,    0,    0,    0]])>}, {'outputs': <tf.Tensor: shape=(64, 40), dtype=int64, numpy=\n",
            "array([[  22,  159,   51, ...,    0,    0,    0],\n",
            "       [1065,   19,   13, ...,    0,    0,    0],\n",
            "       [  26,   34, 1852, ...,    0,    0,    0],\n",
            "       ...,\n",
            "       [  73,   19,    3, ...,    0,    0,    0],\n",
            "       [ 141,   21,   18, ...,    0,    0,    0],\n",
            "       [ 116,    2,    3, ...,    0,    0,    0]])>})\n"
          ]
        }
      ]
    },
    {
      "cell_type": "markdown",
      "source": [
        "# Building the Model"
      ],
      "metadata": {
        "id": "RSA2n7XlPkDq"
      }
    },
    {
      "cell_type": "markdown",
      "source": [
        "## FNet Encoder"
      ],
      "metadata": {
        "id": "TxYlle23PkAh"
      }
    },
    {
      "cell_type": "code",
      "source": [
        "# FNet encoder class\n",
        "class FNetEncoder(layers.Layer):\n",
        "    def __init__(self, embed_dim, dense_dim, **kwargs):\n",
        "        super().__init__(**kwargs)\n",
        "        # Embedding dimension for the encoder layer\n",
        "        self.embed_dim = embed_dim\n",
        "        # Dimension for the dense projection layers\n",
        "        self.dense_dim = dense_dim\n",
        "\n",
        "        # Dense projection layers: first with ReLU activation, then a linear layer\n",
        "        self.dense_proj = keras.Sequential(\n",
        "            [\n",
        "                layers.Dense(dense_dim, activation='relu'),\n",
        "                layers.Dense(embed_dim),\n",
        "            ]\n",
        "        )\n",
        "\n",
        "        # Layer normalization\n",
        "        self.layer_norm_1 = layers.LayerNormalization()\n",
        "        self.layer_norm_2 = layers.LayerNormalization()\n",
        "\n",
        "    def call(self, inputs):\n",
        "        # Casting the inputs to complex64 for Fast Fourier Transform (FFT)\n",
        "        inputs_complex = tf.cast(inputs, tf.complex64)\n",
        "\n",
        "        # Applying 2D FFT to project inputs to frequency domain\n",
        "        # then taking the real part of the FFT output\n",
        "        fft_output = tf.math.real(tf.signal.fft2d(inputs_complex))\n",
        "\n",
        "        # Adding the original inputs to the FFT output followed by layer normalization\n",
        "        proj_input = self.layer_norm_1(inputs + fft_output)\n",
        "\n",
        "        # Applying the dense projection to the normalized FFT output\n",
        "        proj_output = self.dense_proj(proj_input)\n",
        "\n",
        "        # Adding the input to the output of dense layers followed by another layer normalization\n",
        "        return self.layer_norm_2(proj_input + proj_output)"
      ],
      "metadata": {
        "id": "_4wD7Vq4Pj98"
      },
      "execution_count": 14,
      "outputs": []
    },
    {
      "cell_type": "markdown",
      "source": [
        "## Positional Embedding"
      ],
      "metadata": {
        "id": "MmKwmzGJk2aA"
      }
    },
    {
      "cell_type": "code",
      "source": [
        "# Positional embedding class\n",
        "class PositionalEmbedding(layers.Layer):\n",
        "    def __init__(self, sequence_length, vocab_size, embed_dim, **kwargs):\n",
        "        super().__init__(**kwargs)\n",
        "        # Embedding layer for tokens\n",
        "        self.token_embeddings = layers.Embedding(\n",
        "            input_dim=vocab_size, output_dim=embed_dim\n",
        "        )\n",
        "        # Embedding layer for token positions\n",
        "        self.position_embeddings = layers.Embedding(\n",
        "            input_dim=sequence_length, output_dim=embed_dim\n",
        "        )\n",
        "        # Save sequence length, vocabulary size, and embedding dimension\n",
        "        self.sequence_length = sequence_length\n",
        "        self.vocab_size = vocab_size\n",
        "        self.embed_dim = embed_dim\n",
        "\n",
        "    def call(self, inputs):\n",
        "        # Calculate the length of the input sequence\n",
        "        length = tf.shape(inputs)[-1]\n",
        "        # Generate position indices\n",
        "        positions = tf.range(start=0, limit=length, delta=1)\n",
        "        # Embed tokens and positions\n",
        "        embedded_tokens = self.token_embeddings(inputs)\n",
        "        embedded_positions = self.position_embeddings(positions)\n",
        "        # Return sum of tokens and position embeddings\n",
        "        return embedded_tokens + embedded_positions\n",
        "\n",
        "    def compute_mask(self, inputs, mask=None):\n",
        "        # Create a mask for non-zero inputs\n",
        "        return tf.math.not_equal(inputs, 0)"
      ],
      "metadata": {
        "id": "hCTphOFwPj7V"
      },
      "execution_count": 15,
      "outputs": []
    },
    {
      "cell_type": "markdown",
      "source": [
        "## FNet Decoder"
      ],
      "metadata": {
        "id": "PfEHLCNgk4BZ"
      }
    },
    {
      "cell_type": "code",
      "source": [
        "# FNet decoder class\n",
        "class FNetDecoder(layers.Layer):\n",
        "    def __init__(self, embed_dim, latent_dim, num_heads, **kwargs):\n",
        "        super().__init__(**kwargs)\n",
        "        # Embedding and latent dimensions, and number of attention heads\n",
        "        self.embed_dim = embed_dim\n",
        "        self.latent_dim = latent_dim\n",
        "        self.num_heads = num_heads\n",
        "        # First multi-head attention layer (self-attention)\n",
        "        self.attention_1 = layers.MultiHeadAttention(\n",
        "            num_heads=num_heads, key_dim=embed_dim\n",
        "        )\n",
        "        # Second multi-head attention layer (encoder-decoder attention)\n",
        "        self.attention_2 = layers.MultiHeadAttention(\n",
        "            num_heads=num_heads, key_dim=embed_dim\n",
        "        )\n",
        "        # Dense projection layers\n",
        "        self.dense_proj = keras.Sequential(\n",
        "            [\n",
        "                layers.Dense(latent_dim, activation='relu'),\n",
        "                layers.Dense(embed_dim),\n",
        "            ]\n",
        "        )\n",
        "        # Layer normalization\n",
        "        self.layer_norm_1 = layers.LayerNormalization()\n",
        "        self.layer_norm_2 = layers.LayerNormalization()\n",
        "        self.layer_norm_3 = layers.LayerNormalization()\n",
        "        self.supports_masking = True\n",
        "\n",
        "    def call(self, inputs, encoder_outputs, mask=None):\n",
        "        # Generate causal attention mask for self-attention\n",
        "        causal_mask = self.get_causal_attention_mask(inputs)\n",
        "        # Combine causal mask with padding mask if provided\n",
        "        if mask is not None:\n",
        "            padding_mask = tf.cast(mask[:, tf.newaxis, :], dtype='int32')\n",
        "            padding_mask = tf.minimum(padding_mask, causal_mask)\n",
        "\n",
        "        # Apply self-attention and add & norm\n",
        "        attention_output_1 = self.attention_1(\n",
        "            query=inputs, value=inputs, key=inputs, attention_mask=causal_mask\n",
        "        )\n",
        "        out_1 = self.layer_norm_1(inputs + attention_output_1)\n",
        "\n",
        "        # Apply encoder-decoder attention and add & norm\n",
        "        attention_output_2 = self.attention_2(\n",
        "            query=out_1, value=encoder_outputs, key=encoder_outputs, attention_mask=padding_mask\n",
        "        )\n",
        "        out_2 = self.layer_norm_2(out_1 + attention_output_2)\n",
        "\n",
        "        # Apply dense projection and final layer norm\n",
        "        proj_output = self.dense_proj(out_2)\n",
        "        return self.layer_norm_3(out_2 + proj_output)\n",
        "\n",
        "    def get_causal_attention_mask(self, inputs):\n",
        "        # Generate a causal attention mask to mask future tokens\n",
        "        input_shape = tf.shape(inputs)\n",
        "        batch_size, sequence_length = input_shape[0], input_shape[1]\n",
        "        i = tf.range(sequence_length)[:, tf.newaxis]\n",
        "        j = tf.range(sequence_length)\n",
        "        mask = tf.cast(i >= j, dtype='int32')\n",
        "        mask = tf.reshape(mask, (1, input_shape[1], input_shape[1]))\n",
        "        # Tile the mask for all batches\n",
        "        mult = tf.concat(\n",
        "            [tf.expand_dims(batch_size, -1), tf.constant([1, 1], dtype=tf.int32)],\n",
        "            axis=0\n",
        "        )\n",
        "        return tf.tile(mask, mult)"
      ],
      "metadata": {
        "id": "NMcgeQRXPj4c"
      },
      "execution_count": 16,
      "outputs": []
    },
    {
      "cell_type": "markdown",
      "source": [
        "## Model Function"
      ],
      "metadata": {
        "id": "3gNywfGOk6Dm"
      }
    },
    {
      "cell_type": "code",
      "source": [
        "EMBED_DIM = 256\n",
        "LATENT_DIM = 512\n",
        "NUM_HEADS = 8\n",
        "\n",
        "# Function to create the FNet model\n",
        "def create_model():\n",
        "    # Define inputs for the encoder\n",
        "    encoder_inputs = keras.Input(shape=(None,), dtype='int32', name='encoder_inputs')\n",
        "    # Apply positional embedding to encoder inputs\n",
        "    x = PositionalEmbedding(MAX_LENGTH, VOCAB_SIZE, EMBED_DIM)(encoder_inputs)\n",
        "    # Apply FNet encoder\n",
        "    encoder_outputs = FNetEncoder(EMBED_DIM, LATENT_DIM)(x)\n",
        "    # Define the encoder model\n",
        "    encoder = keras.Model(encoder_inputs, encoder_outputs)\n",
        "\n",
        "    # Define inputs for the decoder\n",
        "    decoder_inputs = keras.Input(shape=(None,), dtype='int32', name='decoder_inputs')\n",
        "\n",
        "    # Encoded sequence inputs\n",
        "    encoded_seq_inputs = keras.Input(shape=(None, EMBED_DIM), name='decoder_state_inputs')\n",
        "\n",
        "    # Apply positional embedding to decoder inputs\n",
        "    x = PositionalEmbedding(MAX_LENGTH, VOCAB_SIZE, EMBED_DIM)(decoder_inputs)\n",
        "    # Apply FNet decoder\n",
        "    x = FNetDecoder(EMBED_DIM, LATENT_DIM, NUM_HEADS)(x, encoded_seq_inputs)\n",
        "\n",
        "    # Apply dropout and final dense layer for output prediction\n",
        "    x = layers.Dropout(0.5)(x)\n",
        "    decoder_outputs = layers.Dense(VOCAB_SIZE, activation='softmax')(x)\n",
        "    # Define the decoder model\n",
        "    decoder = keras.Model([decoder_inputs, encoded_seq_inputs], decoder_outputs, name='outputs')\n",
        "    # Apply the decoder to the encoder outputs\n",
        "    decoder_outputs = decoder([decoder_inputs, encoder_outputs])\n",
        "\n",
        "    # Create the FNet model\n",
        "    fnet = keras.Model([encoder_inputs, decoder_inputs], decoder_outputs, name='fnet')\n",
        "    return fnet"
      ],
      "metadata": {
        "id": "r2WXpkC8Pj1m"
      },
      "execution_count": 17,
      "outputs": []
    },
    {
      "cell_type": "markdown",
      "source": [
        "## Model Compilation"
      ],
      "metadata": {
        "id": "l1Ku_jQaPjyu"
      }
    },
    {
      "cell_type": "code",
      "source": [
        "# Instantiate the FNet model\n",
        "fnet = create_model()\n",
        "\n",
        "# Compile the model\n",
        "learning_rate = 1e-4\n",
        "optimizer = optimizers.Adam(learning_rate=learning_rate)\n",
        "perplexity = keras_nlp.metrics.Perplexity(from_logits=False, mask_token_id=0,\n",
        "                                          name=\"perplexity\")\n",
        "\n",
        "fnet.compile(optimizer=optimizer,\n",
        "             loss=keras.losses.SparseCategoricalCrossentropy(from_logits=False),\n",
        "             metrics=[perplexity])\n",
        "\n",
        "# Print the model\n",
        "fnet.summary()\n",
        "\n",
        "# Visualize the model\n",
        "utils.plot_model(fnet, show_shapes=True)"
      ],
      "metadata": {
        "id": "0rkfM_FWPjv3",
        "colab": {
          "base_uri": "https://localhost:8080/",
          "height": 839
        },
        "outputId": "b499c797-d138-4efb-83bf-02afd4a41c6b"
      },
      "execution_count": null,
      "outputs": [
        {
          "output_type": "stream",
          "name": "stdout",
          "text": [
            "Model: \"fnet\"\n",
            "__________________________________________________________________________________________________\n",
            " Layer (type)                Output Shape                 Param #   Connected to                  \n",
            "==================================================================================================\n",
            " encoder_inputs (InputLayer  [(None, None)]               0         []                            \n",
            " )                                                                                                \n",
            "                                                                                                  \n",
            " positional_embedding (Posi  (None, None, 256)            1281024   ['encoder_inputs[0][0]']      \n",
            " tionalEmbedding)                                         0                                       \n",
            "                                                                                                  \n",
            " decoder_inputs (InputLayer  [(None, None)]               0         []                            \n",
            " )                                                                                                \n",
            "                                                                                                  \n",
            " f_net_encoder (FNetEncoder  (None, None, 256)            263936    ['positional_embedding[0][0]']\n",
            " )                                                                                                \n",
            "                                                                                                  \n",
            " outputs (Functional)        (None, None, 50000)          3013179   ['decoder_inputs[0][0]',      \n",
            "                                                          2          'f_net_encoder[0][0]']       \n",
            "                                                                                                  \n",
            "==================================================================================================\n",
            "Total params: 43205968 (164.82 MB)\n",
            "Trainable params: 43205968 (164.82 MB)\n",
            "Non-trainable params: 0 (0.00 Byte)\n",
            "__________________________________________________________________________________________________\n"
          ]
        },
        {
          "output_type": "execute_result",
          "data": {
            "image/png": "[encoded data removed]",
            "text/plain": [
              "<IPython.core.display.Image object>"
            ]
          },
          "metadata": {},
          "execution_count": 18
        }
      ]
    },
    {
      "cell_type": "markdown",
      "source": [
        "## Training the Model"
      ],
      "metadata": {
        "id": "HjXT1q2oPjti"
      }
    },
    {
      "cell_type": "code",
      "source": [
        "# Define callbacks\n",
        "log_dir = 'logs/fit/' + datetime.datetime.now().strftime('%Y%m%d-%H%M%S')\n",
        "\n",
        "callbacks = [\n",
        "    tf.keras.callbacks.EarlyStopping(monitor='val_perplexity', patience=5, mode='min',\n",
        "                                     verbose=1),\n",
        "    tf.keras.callbacks.ModelCheckpoint(filepath='fnet_model.tf', monitor='val_perplexity',\n",
        "                                       save_best_only=True, mode='min', verbose=1),\n",
        "    tf.keras.callbacks.ReduceLROnPlateau(monitor='val_perplexity', factor=0.1,\n",
        "                                         patience=1, min_lr=1e-10, mode='min', verbose=1),\n",
        "    tf.keras.callbacks.TensorBoard(log_dir=log_dir)\n",
        "]"
      ],
      "metadata": {
        "id": "01GyaKGKPjqp"
      },
      "execution_count": null,
      "outputs": []
    },
    {
      "cell_type": "code",
      "source": [
        "EPOCHS = 30\n",
        "\n",
        "# Train the model\n",
        "history_fnet = fnet.fit(train_dataset,\n",
        "                        epochs=EPOCHS,\n",
        "                        validation_data=val_dataset,\n",
        "                        callbacks=callbacks)"
      ],
      "metadata": {
        "id": "pX-MmVayPjny",
        "colab": {
          "base_uri": "https://localhost:8080/"
        },
        "outputId": "ff056edb-9e0c-4b64-d293-cef895e09936"
      },
      "execution_count": null,
      "outputs": [
        {
          "output_type": "stream",
          "name": "stdout",
          "text": [
            "Epoch 1/30\n"
          ]
        },
        {
          "output_type": "stream",
          "name": "stderr",
          "text": [
            "WARNING:tensorflow:You are casting an input of type complex64 to an incompatible dtype float32.  This will discard the imaginary part and may not be what you intended.\n",
            "WARNING:tensorflow:You are casting an input of type complex64 to an incompatible dtype float32.  This will discard the imaginary part and may not be what you intended.\n"
          ]
        },
        {
          "output_type": "stream",
          "name": "stdout",
          "text": [
            "1250/1250 [==============================] - ETA: 0s - loss: 5.3239 - perplexity: 273.0990\n",
            "Epoch 1: val_perplexity improved from inf to 119.51940, saving model to fnet_model.tf\n",
            "1250/1250 [==============================] - 233s 179ms/step - loss: 5.3239 - perplexity: 273.0990 - val_loss: 4.4554 - val_perplexity: 119.5194 - lr: 1.0000e-04\n",
            "Epoch 2/30\n",
            "1250/1250 [==============================] - ETA: 0s - loss: 4.3853 - perplexity: 110.4338\n",
            "Epoch 2: val_perplexity improved from 119.51940 to 98.71896, saving model to fnet_model.tf\n",
            "1250/1250 [==============================] - 210s 168ms/step - loss: 4.3853 - perplexity: 110.4338 - val_loss: 4.2764 - val_perplexity: 98.7190 - lr: 1.0000e-04\n",
            "Epoch 3/30\n",
            "1250/1250 [==============================] - ETA: 0s - loss: 4.2151 - perplexity: 92.0690\n",
            "Epoch 3: val_perplexity improved from 98.71896 to 90.71103, saving model to fnet_model.tf\n",
            "1250/1250 [==============================] - 209s 167ms/step - loss: 4.2151 - perplexity: 92.0690 - val_loss: 4.1976 - val_perplexity: 90.7110 - lr: 1.0000e-04\n",
            "Epoch 4/30\n",
            "1250/1250 [==============================] - ETA: 0s - loss: 4.0998 - perplexity: 81.3627\n",
            "Epoch 4: val_perplexity improved from 90.71103 to 86.36327, saving model to fnet_model.tf\n",
            "1250/1250 [==============================] - 209s 167ms/step - loss: 4.0998 - perplexity: 81.3627 - val_loss: 4.1518 - val_perplexity: 86.3633 - lr: 1.0000e-04\n",
            "Epoch 5/30\n",
            "1250/1250 [==============================] - ETA: 0s - loss: 4.0050 - perplexity: 73.5093\n",
            "Epoch 5: val_perplexity improved from 86.36327 to 84.33949, saving model to fnet_model.tf\n",
            "1250/1250 [==============================] - 208s 167ms/step - loss: 4.0050 - perplexity: 73.5093 - val_loss: 4.1298 - val_perplexity: 84.3395 - lr: 1.0000e-04\n",
            "Epoch 6/30\n",
            "1250/1250 [==============================] - ETA: 0s - loss: 3.9193 - perplexity: 67.0473\n",
            "Epoch 6: val_perplexity improved from 84.33949 to 83.69002, saving model to fnet_model.tf\n",
            "1250/1250 [==============================] - 209s 167ms/step - loss: 3.9193 - perplexity: 67.0473 - val_loss: 4.1226 - val_perplexity: 83.6900 - lr: 1.0000e-04\n",
            "Epoch 7/30\n",
            "1250/1250 [==============================] - ETA: 0s - loss: 3.8412 - perplexity: 61.6521\n",
            "Epoch 7: val_perplexity did not improve from 83.69002\n",
            "\n",
            "Epoch 7: ReduceLROnPlateau reducing learning rate to 9.999999747378752e-06.\n",
            "1250/1250 [==============================] - 202s 162ms/step - loss: 3.8412 - perplexity: 61.6521 - val_loss: 4.1294 - val_perplexity: 84.2966 - lr: 1.0000e-04\n",
            "Epoch 8/30\n",
            "1250/1250 [==============================] - ETA: 0s - loss: 3.7308 - perplexity: 54.7686\n",
            "Epoch 8: val_perplexity did not improve from 83.69002\n",
            "\n",
            "Epoch 8: ReduceLROnPlateau reducing learning rate to 9.999999747378752e-07.\n",
            "1250/1250 [==============================] - 202s 162ms/step - loss: 3.7308 - perplexity: 54.7686 - val_loss: 4.1290 - val_perplexity: 84.2545 - lr: 1.0000e-05\n",
            "Epoch 9/30\n",
            "1250/1250 [==============================] - ETA: 0s - loss: 3.7115 - perplexity: 53.6465\n",
            "Epoch 9: val_perplexity did not improve from 83.69002\n",
            "\n",
            "Epoch 9: ReduceLROnPlateau reducing learning rate to 9.999999974752428e-08.\n",
            "1250/1250 [==============================] - 202s 162ms/step - loss: 3.7115 - perplexity: 53.6465 - val_loss: 4.1298 - val_perplexity: 84.3307 - lr: 1.0000e-06\n",
            "Epoch 10/30\n",
            "1250/1250 [==============================] - ETA: 0s - loss: 3.7091 - perplexity: 53.5116\n",
            "Epoch 10: val_perplexity did not improve from 83.69002\n",
            "\n",
            "Epoch 10: ReduceLROnPlateau reducing learning rate to 1.0000000116860975e-08.\n",
            "1250/1250 [==============================] - 202s 162ms/step - loss: 3.7091 - perplexity: 53.5116 - val_loss: 4.1297 - val_perplexity: 84.3173 - lr: 1.0000e-07\n",
            "Epoch 11/30\n",
            "1250/1250 [==============================] - ETA: 0s - loss: 3.7096 - perplexity: 53.5400\n",
            "Epoch 11: val_perplexity did not improve from 83.69002\n",
            "\n",
            "Epoch 11: ReduceLROnPlateau reducing learning rate to 9.999999939225292e-10.\n",
            "1250/1250 [==============================] - 202s 162ms/step - loss: 3.7096 - perplexity: 53.5400 - val_loss: 4.1297 - val_perplexity: 84.3169 - lr: 1.0000e-08\n",
            "Epoch 11: early stopping\n"
          ]
        }
      ]
    },
    {
      "cell_type": "markdown",
      "source": [
        "# Evaluating the Model"
      ],
      "metadata": {
        "id": "sZkoZW8ZPjlO"
      }
    },
    {
      "cell_type": "code",
      "source": [
        "# Launch TensorBoard\n",
        "# %load_ext tensorboard\n",
        "# %tensorboard --logdir logs/fit"
      ],
      "metadata": {
        "id": "601uYWK7u8qH"
      },
      "execution_count": null,
      "outputs": []
    },
    {
      "cell_type": "code",
      "source": [
        "# Load the best saved model\n",
        "custom_objects = {\n",
        "    'FNetEncoder': FNetEncoder,\n",
        "    'PositionalEmbedding': PositionalEmbedding,\n",
        "    'FNetDecoder': FNetDecoder\n",
        "}\n",
        "\n",
        "best_fnet = models.load_model('fnet_model.tf', custom_objects=custom_objects)"
      ],
      "metadata": {
        "id": "iD3hrq_wsLm3"
      },
      "execution_count": null,
      "outputs": []
    },
    {
      "cell_type": "code",
      "source": [
        "# Evaluating the model on the validation set\n",
        "fnet_loss, fnet_perplexity = best_fnet.evaluate(val_dataset)\n",
        "print(f'Validation Loss: {fnet_loss}')\n",
        "print(f'Validation Perplexity: {fnet_perplexity}')"
      ],
      "metadata": {
        "id": "-ez44A32Pjik",
        "colab": {
          "base_uri": "https://localhost:8080/"
        },
        "outputId": "eedcef78-eb01-4b40-905d-21442dc92c18"
      },
      "execution_count": null,
      "outputs": [
        {
          "output_type": "stream",
          "name": "stdout",
          "text": [
            "313/313 [==============================] - 26s 80ms/step - loss: 4.7248 - perplexity: 159.8790\n",
            "Validation Loss: 4.724791526794434\n",
            "Validation Perplexity: 159.87896728515625\n"
          ]
        }
      ]
    },
    {
      "cell_type": "markdown",
      "source": [
        "## Plotting the Metrics"
      ],
      "metadata": {
        "id": "6Ba5U76Px__i"
      }
    },
    {
      "cell_type": "code",
      "source": [
        "# Function to plot the training history\n",
        "def plot_training_history(history):\n",
        "    perp = history.history['perplexity']\n",
        "    val_perp = history.history['val_perplexity']\n",
        "    loss = history.history['loss']\n",
        "    val_loss = history.history['val_loss']\n",
        "    epochs = range(1, len(perp) + 1)\n",
        "\n",
        "    # Plot the perplexities\n",
        "    plt.plot(epochs, perp, 'skyblue', label='Training Perplexity')\n",
        "    plt.plot(epochs, val_perp, 'orange', label='Validation Perplexity')\n",
        "    plt.title('Training and Validation Perplexity')\n",
        "    plt.legend()\n",
        "    plt.figure()\n",
        "\n",
        "    # Plot the losses\n",
        "    plt.plot(epochs, loss, 'skyblue', label='Training Loss')\n",
        "    plt.plot(epochs, val_loss, 'orange', label='Validation Loss')\n",
        "    plt.title('Training and Validation Loss')\n",
        "    plt.legend()\n",
        "\n",
        "    plt.show()"
      ],
      "metadata": {
        "id": "v8zNqAXzPjfw"
      },
      "execution_count": 18,
      "outputs": []
    },
    {
      "cell_type": "code",
      "source": [
        "# Call the function\n",
        "plot_training_history(history_fnet)"
      ],
      "metadata": {
        "id": "vQyuNavLtNih",
        "colab": {
          "base_uri": "https://localhost:8080/",
          "height": 887
        },
        "outputId": "ea14de85-15ea-4dae-d431-4d1d92d45129"
      },
      "execution_count": null,
      "outputs": [
        {
          "output_type": "display_data",
          "data": {
            "text/plain": [
              "<Figure size 640x480 with 1 Axes>"
            ],
            "image/png": "[encoded data removed]"
          },
          "metadata": {}
        },
        {
          "output_type": "display_data",
          "data": {
            "text/plain": [
              "<Figure size 640x480 with 1 Axes>"
            ],
            "image/png": "[encoded data removed]"
          },
          "metadata": {}
        }
      ]
    },
    {
      "cell_type": "markdown",
      "source": [
        "# Inferencing With the Model"
      ],
      "metadata": {
        "id": "WNMIFF-qtRXw"
      }
    },
    {
      "cell_type": "code",
      "source": [
        "VOCAB = vectorizer.get_vocabulary()\n",
        "\n",
        "# Function to decode the input sequence with the model\n",
        "def decode_sequence(input_sequence):\n",
        "    # Map the inputs sequence to tokens and add the BOS and EOS tokens\n",
        "    tokenized_input_sequence = vectorizer(\n",
        "        tf.constant(\"[BOS] \" + preprocess_text(input_sequence) + \" [EOS]\")\n",
        "    )\n",
        "\n",
        "    # Initialize the sequence with only the BOS token\n",
        "    tokenized_target_sequence = tf.expand_dims(VOCAB.index(\"[BOS]\"), 0)\n",
        "    # Initialize the decoded sequence\n",
        "    decoded_sequence = \"\"\n",
        "\n",
        "    # Generate the sequence\n",
        "    for i in range(MAX_LENGTH):\n",
        "        # Get the model predictions\n",
        "        predictions = best_fnet.predict(\n",
        "            {\n",
        "                \"encoder_inputs\": tf.expand_dims(tokenized_input_sequence, 0),\n",
        "                \"decoder_inputs\": tf.expand_dims(\n",
        "                    tf.pad(\n",
        "                        tokenized_target_sequence,\n",
        "                        [[0, MAX_LENGTH - tf.shape(tokenized_target_sequence)[0]]],\n",
        "                    ),\n",
        "                    0,\n",
        "                ),\n",
        "            }\n",
        "        )\n",
        "        # Calculate the token with the highest probability\n",
        "        sampled_token_index = tf.argmax(predictions[0, i, :])\n",
        "        # Get the corresponding word\n",
        "        sampled_token = VOCAB[sampled_token_index.numpy()]\n",
        "        # If sampled token is EOS token, then stop generating\n",
        "        if tf.equal(sampled_token_index, VOCAB.index(\"[EOS]\")):\n",
        "            break\n",
        "        # Append the sampled token to the decoded sequence\n",
        "        decoded_sequence += sampled_token + \" \"\n",
        "        # Append the sampled token to the target sequence\n",
        "        tokenized_target_sequence = tf.concat(\n",
        "            [tokenized_target_sequence, [sampled_token_index]], 0\n",
        "        )\n",
        "\n",
        "    return decoded_sequence.strip()"
      ],
      "metadata": {
        "id": "qJKOkg-Ite7v"
      },
      "execution_count": null,
      "outputs": []
    },
    {
      "cell_type": "code",
      "source": [
        "# Call the function\n",
        "print(decode_sequence(\"How are you doing today?\"))"
      ],
      "metadata": {
        "id": "RuM_b1xGwokV",
        "colab": {
          "base_uri": "https://localhost:8080/"
        },
        "outputId": "5592383e-e2b2-4981-fa31-fb56142ba997"
      },
      "execution_count": null,
      "outputs": [
        {
          "output_type": "stream",
          "name": "stdout",
          "text": [
            "1/1 [==============================] - 0s 472ms/step\n",
            "1/1 [==============================] - 0s 25ms/step\n",
            "1/1 [==============================] - 0s 25ms/step\n",
            "1/1 [==============================] - 0s 24ms/step\n",
            "1/1 [==============================] - 0s 24ms/step\n",
            "oh , sir .\n"
          ]
        }
      ]
    },
    {
      "cell_type": "markdown",
      "source": [
        "# Hyperparameter Tuning"
      ],
      "metadata": {
        "id": "ajP8WnOLqkYG"
      }
    },
    {
      "cell_type": "code",
      "source": [
        "from scipy.optimize import minimize\n",
        "\n",
        "# Set the epochs for tuning\n",
        "EPOCHS = 3"
      ],
      "metadata": {
        "id": "00GSgjl3zItk"
      },
      "execution_count": 19,
      "outputs": []
    },
    {
      "cell_type": "markdown",
      "source": [
        "## Model Function"
      ],
      "metadata": {
        "id": "Rh-0Z_zSrt-f"
      }
    },
    {
      "cell_type": "code",
      "source": [
        "# Model creation function\n",
        "def create_model(EMBED_DIM, LATENT_DIM, NUM_HEADS, learning_rate):\n",
        "        # Ensure hyperparameters are positive integers\n",
        "        EMBED_DIM = max(int(EMBED_DIM), 1)\n",
        "        LATENT_DIM = max(int(LATENT_DIM), 1)\n",
        "        NUM_HEADS = max(int(NUM_HEADS), 1)\n",
        "\n",
        "        # Define inputs for the encoder\n",
        "        encoder_inputs = keras.Input(shape=(None,), dtype='int32', name='encoder_inputs')\n",
        "        # Apply positional embedding to encoder inputs\n",
        "        x = PositionalEmbedding(MAX_LENGTH, VOCAB_SIZE, EMBED_DIM)(encoder_inputs)\n",
        "        # Apply FNet encoder\n",
        "        encoder_outputs = FNetEncoder(EMBED_DIM, LATENT_DIM)(x)\n",
        "        # Define the encoder model\n",
        "        encoder = keras.Model(encoder_inputs, encoder_outputs)\n",
        "\n",
        "        # Define inputs for the decoder\n",
        "        decoder_inputs = keras.Input(shape=(None,), dtype='int32', name='decoder_inputs')\n",
        "\n",
        "        # Encoded sequence inputs\n",
        "        encoded_seq_inputs = keras.Input(shape=(None, EMBED_DIM), name='decoder_state_inputs')\n",
        "\n",
        "        # Apply positional embedding to decoder inputs\n",
        "        x = PositionalEmbedding(MAX_LENGTH, VOCAB_SIZE, EMBED_DIM)(decoder_inputs)\n",
        "        # Apply FNet decoder\n",
        "        x = FNetDecoder(EMBED_DIM, LATENT_DIM, NUM_HEADS)(x, encoded_seq_inputs)\n",
        "\n",
        "        # Apply dropout and final dense layer for output prediction\n",
        "        x = layers.Dropout(0.5)(x)\n",
        "        decoder_outputs = layers.Dense(VOCAB_SIZE, activation='softmax')(x)\n",
        "        # Define the decoder model\n",
        "        decoder = keras.Model([decoder_inputs, encoded_seq_inputs], decoder_outputs, name='outputs')\n",
        "        # Apply the decoder to the encoder outputs\n",
        "        decoder_outputs = decoder([decoder_inputs, encoder_outputs])\n",
        "\n",
        "        # Create the FNet model\n",
        "        fnet = keras.Model([encoder_inputs, decoder_inputs], decoder_outputs, name='fnet')\n",
        "        return fnet"
      ],
      "metadata": {
        "id": "A38gayNWD8L4"
      },
      "execution_count": 20,
      "outputs": []
    },
    {
      "cell_type": "markdown",
      "source": [
        "## Objective Function"
      ],
      "metadata": {
        "id": "9lkx4n3brx2I"
      }
    },
    {
      "cell_type": "code",
      "source": [
        "# Global list to track the objective values\n",
        "objective_values = []\n",
        "\n",
        "# Define the objective function\n",
        "def objective_function(hyperparams):\n",
        "    try:\n",
        "        # Unpack hyperparameters\n",
        "        EMBED_DIM, LATENT_DIM, NUM_HEADS, learning_rate = hyperparams\n",
        "\n",
        "        # Ensure hyperparameters are positive integers\n",
        "        EMBED_DIM = max(int(EMBED_DIM), 1)\n",
        "        LATENT_DIM = max(int(LATENT_DIM), 1)\n",
        "        NUM_HEADS = max(int(NUM_HEADS), 1)\n",
        "\n",
        "        # Create, compile, and train the model\n",
        "        fnet = create_model(EMBED_DIM, LATENT_DIM, NUM_HEADS, learning_rate)\n",
        "        optimizer = optimizers.Adam(learning_rate=learning_rate, clipvalue=1.0)\n",
        "        perplexity_metric = keras_nlp.metrics.Perplexity(from_logits=False, mask_token_id=0, name=\"perplexity\")\n",
        "        fnet.compile(optimizer=optimizer,\n",
        "                     loss=keras.losses.SparseCategoricalCrossentropy(from_logits=False),\n",
        "                     metrics=[perplexity_metric])\n",
        "        history_fnet = fnet.fit(train_dataset, epochs=EPOCHS, validation_data=val_dataset)\n",
        "\n",
        "        # Return the final perplexity\n",
        "        final_perplexity = history_fnet.history['val_perplexity'][-1]\n",
        "\n",
        "        # Append the perplexity value to the global list\n",
        "        objective_values.append(final_perplexity)\n",
        "\n",
        "        return final_perplexity\n",
        "\n",
        "    except Exception as e:\n",
        "        print(\"An error occurred:\", e)\n",
        "        objective_values.append(np.inf)  # Append a large number in case of error\n",
        "        return np.inf  # Return a large number in case of error"
      ],
      "metadata": {
        "id": "S85im0zUr0LS"
      },
      "execution_count": 21,
      "outputs": []
    },
    {
      "cell_type": "markdown",
      "source": [
        "## Nelder Mead Algorithm"
      ],
      "metadata": {
        "id": "EeUslDsBi6GH"
      }
    },
    {
      "cell_type": "code",
      "source": [
        "# Initial guess for hyperparameters\n",
        "initial_guess = [256, 512, 8, 1e-4]\n",
        "\n",
        "# Nelder-Mead algorithm for optimization\n",
        "result = minimize(\n",
        "    objective_function,\n",
        "    initial_guess,\n",
        "    method='Nelder-Mead',\n",
        "    options={'maxiter': 5, 'maxfev': 20})\n",
        "\n",
        "# Extract the best hyperparameters and score\n",
        "best_hyperparams = result.x\n",
        "best_score = result.fun\n",
        "\n",
        "print(f\"Best Hyperparameters: {best_hyperparams}\")\n",
        "print(f\"Best Score: {best_score}\")"
      ],
      "metadata": {
        "colab": {
          "base_uri": "https://localhost:8080/"
        },
        "id": "J5BW44E8x7xs",
        "outputId": "940b37ec-8b88-4487-a446-4834de3c5da3"
      },
      "execution_count": 22,
      "outputs": [
        {
          "output_type": "stream",
          "name": "stdout",
          "text": [
            "Epoch 1/3\n"
          ]
        },
        {
          "output_type": "stream",
          "name": "stderr",
          "text": [
            "WARNING:tensorflow:You are casting an input of type complex64 to an incompatible dtype float32.  This will discard the imaginary part and may not be what you intended.\n",
            "WARNING:tensorflow:You are casting an input of type complex64 to an incompatible dtype float32.  This will discard the imaginary part and may not be what you intended.\n"
          ]
        },
        {
          "output_type": "stream",
          "name": "stdout",
          "text": [
            "1250/1250 [==============================] - 233s 177ms/step - loss: 5.3238 - perplexity: 273.0810 - val_loss: 4.4552 - val_perplexity: 119.4910\n",
            "Epoch 2/3\n",
            "1250/1250 [==============================] - 212s 169ms/step - loss: 4.3850 - perplexity: 110.3943 - val_loss: 4.2751 - val_perplexity: 98.5805\n",
            "Epoch 3/3\n",
            "1250/1250 [==============================] - 211s 169ms/step - loss: 4.2145 - perplexity: 92.0136 - val_loss: 4.1965 - val_perplexity: 90.6059\n",
            "Epoch 1/3\n"
          ]
        },
        {
          "output_type": "stream",
          "name": "stderr",
          "text": [
            "WARNING:tensorflow:You are casting an input of type complex64 to an incompatible dtype float32.  This will discard the imaginary part and may not be what you intended.\n",
            "WARNING:tensorflow:You are casting an input of type complex64 to an incompatible dtype float32.  This will discard the imaginary part and may not be what you intended.\n"
          ]
        },
        {
          "output_type": "stream",
          "name": "stdout",
          "text": [
            "1250/1250 [==============================] - 266s 207ms/step - loss: 5.2758 - perplexity: 261.8741 - val_loss: 4.4431 - val_perplexity: 117.9619\n",
            "Epoch 2/3\n",
            "1250/1250 [==============================] - 241s 193ms/step - loss: 4.3732 - perplexity: 109.0214 - val_loss: 4.2700 - val_perplexity: 98.0489\n",
            "Epoch 3/3\n",
            "1250/1250 [==============================] - 239s 191ms/step - loss: 4.2064 - perplexity: 91.2033 - val_loss: 4.2001 - val_perplexity: 90.9509\n",
            "Epoch 1/3\n"
          ]
        },
        {
          "output_type": "stream",
          "name": "stderr",
          "text": [
            "WARNING:tensorflow:You are casting an input of type complex64 to an incompatible dtype float32.  This will discard the imaginary part and may not be what you intended.\n",
            "WARNING:tensorflow:You are casting an input of type complex64 to an incompatible dtype float32.  This will discard the imaginary part and may not be what you intended.\n"
          ]
        },
        {
          "output_type": "stream",
          "name": "stdout",
          "text": [
            "1250/1250 [==============================] - 233s 181ms/step - loss: 5.3084 - perplexity: 269.7843 - val_loss: 4.4639 - val_perplexity: 120.6128\n",
            "Epoch 2/3\n",
            "1250/1250 [==============================] - 213s 170ms/step - loss: 4.3953 - perplexity: 111.6308 - val_loss: 4.2881 - val_perplexity: 99.9627\n",
            "Epoch 3/3\n",
            "1250/1250 [==============================] - 212s 170ms/step - loss: 4.2257 - perplexity: 93.1246 - val_loss: 4.2049 - val_perplexity: 91.4344\n",
            "Epoch 1/3\n"
          ]
        },
        {
          "output_type": "stream",
          "name": "stderr",
          "text": [
            "WARNING:tensorflow:You are casting an input of type complex64 to an incompatible dtype float32.  This will discard the imaginary part and may not be what you intended.\n",
            "WARNING:tensorflow:You are casting an input of type complex64 to an incompatible dtype float32.  This will discard the imaginary part and may not be what you intended.\n"
          ]
        },
        {
          "output_type": "stream",
          "name": "stdout",
          "text": [
            "1250/1250 [==============================] - 232s 181ms/step - loss: 5.3092 - perplexity: 269.4634 - val_loss: 4.4556 - val_perplexity: 119.5435\n",
            "Epoch 2/3\n",
            "1250/1250 [==============================] - 213s 170ms/step - loss: 4.3887 - perplexity: 110.8270 - val_loss: 4.2806 - val_perplexity: 99.1611\n",
            "Epoch 3/3\n",
            "1250/1250 [==============================] - 212s 170ms/step - loss: 4.2214 - perplexity: 92.6918 - val_loss: 4.2023 - val_perplexity: 91.1763\n",
            "Epoch 1/3\n"
          ]
        },
        {
          "output_type": "stream",
          "name": "stderr",
          "text": [
            "WARNING:tensorflow:You are casting an input of type complex64 to an incompatible dtype float32.  This will discard the imaginary part and may not be what you intended.\n",
            "WARNING:tensorflow:You are casting an input of type complex64 to an incompatible dtype float32.  This will discard the imaginary part and may not be what you intended.\n"
          ]
        },
        {
          "output_type": "stream",
          "name": "stdout",
          "text": [
            "1250/1250 [==============================] - 232s 180ms/step - loss: 5.2864 - perplexity: 264.8178 - val_loss: 4.4441 - val_perplexity: 118.0941\n",
            "Epoch 2/3\n",
            "1250/1250 [==============================] - 212s 170ms/step - loss: 4.3770 - perplexity: 109.4740 - val_loss: 4.2751 - val_perplexity: 98.5868\n",
            "Epoch 3/3\n",
            "1250/1250 [==============================] - 211s 169ms/step - loss: 4.2094 - perplexity: 91.5346 - val_loss: 4.1972 - val_perplexity: 90.6736\n",
            "Epoch 1/3\n"
          ]
        },
        {
          "output_type": "stream",
          "name": "stderr",
          "text": [
            "WARNING:tensorflow:You are casting an input of type complex64 to an incompatible dtype float32.  This will discard the imaginary part and may not be what you intended.\n",
            "WARNING:tensorflow:You are casting an input of type complex64 to an incompatible dtype float32.  This will discard the imaginary part and may not be what you intended.\n"
          ]
        },
        {
          "output_type": "stream",
          "name": "stdout",
          "text": [
            "1250/1250 [==============================] - 264s 206ms/step - loss: 5.2703 - perplexity: 259.9472 - val_loss: 4.4488 - val_perplexity: 118.6767\n",
            "Epoch 2/3\n",
            "1250/1250 [==============================] - 239s 191ms/step - loss: 4.3788 - perplexity: 109.6729 - val_loss: 4.2751 - val_perplexity: 98.5845\n",
            "Epoch 3/3\n",
            "1250/1250 [==============================] - 237s 190ms/step - loss: 4.2134 - perplexity: 91.9100 - val_loss: 4.2013 - val_perplexity: 91.0823\n",
            "Epoch 1/3\n"
          ]
        },
        {
          "output_type": "stream",
          "name": "stderr",
          "text": [
            "WARNING:tensorflow:You are casting an input of type complex64 to an incompatible dtype float32.  This will discard the imaginary part and may not be what you intended.\n",
            "WARNING:tensorflow:You are casting an input of type complex64 to an incompatible dtype float32.  This will discard the imaginary part and may not be what you intended.\n"
          ]
        },
        {
          "output_type": "stream",
          "name": "stdout",
          "text": [
            "1250/1250 [==============================] - 262s 204ms/step - loss: 5.2663 - perplexity: 259.3366 - val_loss: 4.4425 - val_perplexity: 117.8962\n",
            "Epoch 2/3\n",
            "1250/1250 [==============================] - 234s 187ms/step - loss: 4.3711 - perplexity: 108.7828 - val_loss: 4.2714 - val_perplexity: 98.1921\n",
            "Epoch 3/3\n",
            "1250/1250 [==============================] - 235s 188ms/step - loss: 4.2053 - perplexity: 91.1019 - val_loss: 4.1923 - val_perplexity: 90.1983\n",
            "Epoch 1/3\n"
          ]
        },
        {
          "output_type": "stream",
          "name": "stderr",
          "text": [
            "WARNING:tensorflow:You are casting an input of type complex64 to an incompatible dtype float32.  This will discard the imaginary part and may not be what you intended.\n",
            "WARNING:tensorflow:You are casting an input of type complex64 to an incompatible dtype float32.  This will discard the imaginary part and may not be what you intended.\n"
          ]
        },
        {
          "output_type": "stream",
          "name": "stdout",
          "text": [
            "1250/1250 [==============================] - 263s 205ms/step - loss: 5.2384 - perplexity: 252.1191 - val_loss: 4.4214 - val_perplexity: 115.2595\n",
            "Epoch 2/3\n",
            "1250/1250 [==============================] - 237s 189ms/step - loss: 4.3519 - perplexity: 106.5543 - val_loss: 4.2551 - val_perplexity: 96.4926\n",
            "Epoch 3/3\n",
            "1250/1250 [==============================] - 235s 188ms/step - loss: 4.1860 - perplexity: 89.2362 - val_loss: 4.1786 - val_perplexity: 88.8869\n",
            "Epoch 1/3\n"
          ]
        },
        {
          "output_type": "stream",
          "name": "stderr",
          "text": [
            "WARNING:tensorflow:You are casting an input of type complex64 to an incompatible dtype float32.  This will discard the imaginary part and may not be what you intended.\n",
            "WARNING:tensorflow:You are casting an input of type complex64 to an incompatible dtype float32.  This will discard the imaginary part and may not be what you intended.\n"
          ]
        },
        {
          "output_type": "stream",
          "name": "stdout",
          "text": [
            "1250/1250 [==============================] - 261s 203ms/step - loss: 5.2735 - perplexity: 261.1933 - val_loss: 4.4384 - val_perplexity: 117.3670\n",
            "Epoch 2/3\n",
            "1250/1250 [==============================] - 233s 187ms/step - loss: 4.3733 - perplexity: 109.0215 - val_loss: 4.2730 - val_perplexity: 98.3546\n",
            "Epoch 3/3\n",
            "1250/1250 [==============================] - 233s 187ms/step - loss: 4.2101 - perplexity: 91.5772 - val_loss: 4.1986 - val_perplexity: 90.8122\n",
            "Epoch 1/3\n"
          ]
        },
        {
          "output_type": "stream",
          "name": "stderr",
          "text": [
            "WARNING:tensorflow:You are casting an input of type complex64 to an incompatible dtype float32.  This will discard the imaginary part and may not be what you intended.\n",
            "WARNING:tensorflow:You are casting an input of type complex64 to an incompatible dtype float32.  This will discard the imaginary part and may not be what you intended.\n"
          ]
        },
        {
          "output_type": "stream",
          "name": "stdout",
          "text": [
            "1250/1250 [==============================] - 238s 184ms/step - loss: 5.2852 - perplexity: 263.8135 - val_loss: 4.4484 - val_perplexity: 118.6377\n",
            "Epoch 2/3\n",
            "1250/1250 [==============================] - 210s 168ms/step - loss: 4.3730 - perplexity: 108.9720 - val_loss: 4.2676 - val_perplexity: 97.7925\n",
            "Epoch 3/3\n",
            "1250/1250 [==============================] - 209s 167ms/step - loss: 4.2017 - perplexity: 90.7537 - val_loss: 4.1853 - val_perplexity: 89.5242\n",
            "Best Hyperparameters: [2.70400e+02 4.92800e+02 7.35000e+00 1.05625e-04]\n",
            "Best Score: 88.88685607910156\n"
          ]
        }
      ]
    },
    {
      "cell_type": "code",
      "source": [
        "# Plot the convergence\n",
        "plt.figure(figsize=(10, 6))\n",
        "evaluation_numbers = range(1, len(objective_values) + 1)\n",
        "plt.plot(evaluation_numbers, objective_values, marker='o')\n",
        "plt.title(\"Convergence Plot\")\n",
        "plt.xlabel(\"Evaluations\")\n",
        "plt.ylabel(\"Perplexity\")\n",
        "plt.grid(True)\n",
        "plt.xticks(evaluation_numbers)\n",
        "plt.show()"
      ],
      "metadata": {
        "colab": {
          "base_uri": "https://localhost:8080/",
          "height": 564
        },
        "id": "SeNTvkXBIlgf",
        "outputId": "4a312f56-baa6-45c4-9fcb-3fc1d3dadbda"
      },
      "execution_count": 23,
      "outputs": [
        {
          "output_type": "display_data",
          "data": {
            "text/plain": [
              "<Figure size 1000x600 with 1 Axes>"
            ],
            "image/png": "[encoded data removed]"
          },
          "metadata": {}
        }
      ]
    },
    {
      "cell_type": "code",
      "source": [
        "# Save the best hyperparameters\n",
        "hyperparams_dict = {\n",
        "    \"EMBED_DIM\": int(best_hyperparams[0]),\n",
        "    \"LATENT_DIM\": int(best_hyperparams[1]),\n",
        "    \"NUM_HEADS\": int(best_hyperparams[2]),\n",
        "    \"LEARNING_RATE\": best_hyperparams[3]\n",
        "}\n",
        "\n",
        "with open(\"best_hyperparams.json\", \"w\") as file:\n",
        "    json.dump(hyperparams_dict, file)"
      ],
      "metadata": {
        "id": "SV2oS6xDyRyR"
      },
      "execution_count": 24,
      "outputs": []
    },
    {
      "cell_type": "markdown",
      "source": [
        "## Rebuilding the Model"
      ],
      "metadata": {
        "id": "DvPFSq5hr5ky"
      }
    },
    {
      "cell_type": "code",
      "source": [
        "# Load hyperparameters\n",
        "with open(\"best_hyperparams.json\", \"r\") as file:\n",
        "    loaded_hyperparams = json.load(file)\n",
        "\n",
        "# Rebuild the model with the loaded hyperparameters\n",
        "rebuilt_model = create_model(\n",
        "    EMBED_DIM=loaded_hyperparams[\"EMBED_DIM\"],\n",
        "    LATENT_DIM=loaded_hyperparams[\"LATENT_DIM\"],\n",
        "    NUM_HEADS=loaded_hyperparams[\"NUM_HEADS\"],\n",
        "    learning_rate=loaded_hyperparams[\"LEARNING_RATE\"]\n",
        ")\n",
        "optimizer = optimizers.Adam(learning_rate=loaded_hyperparams[\"LEARNING_RATE\"])\n",
        "perplexity_metric = keras_nlp.metrics.Perplexity(from_logits=False, mask_token_id=0, name=\"perplexity\")\n",
        "rebuilt_model.compile(optimizer=optimizer,\n",
        "                     loss=keras.losses.SparseCategoricalCrossentropy(from_logits=False),\n",
        "                     metrics=[perplexity_metric])\n",
        "\n",
        "# Print the model\n",
        "rebuilt_model.summary()\n",
        "\n",
        "# Visualize the model\n",
        "utils.plot_model(rebuilt_model, show_shapes=True)"
      ],
      "metadata": {
        "id": "ifvu_0hDB666",
        "colab": {
          "base_uri": "https://localhost:8080/",
          "height": 851
        },
        "outputId": "a58517b7-1815-4d07-d90e-c2222a6f276b"
      },
      "execution_count": 25,
      "outputs": [
        {
          "output_type": "stream",
          "name": "stdout",
          "text": [
            "Model: \"fnet\"\n",
            "__________________________________________________________________________________________________\n",
            " Layer (type)                Output Shape                 Param #   Connected to                  \n",
            "==================================================================================================\n",
            " encoder_inputs (InputLayer  [(None, None)]               0         []                            \n",
            " )                                                                                                \n",
            "                                                                                                  \n",
            " positional_embedding_20 (P  (None, None, 270)            1351080   ['encoder_inputs[0][0]']      \n",
            " ositionalEmbedding)                                      0                                       \n",
            "                                                                                                  \n",
            " decoder_inputs (InputLayer  [(None, None)]               0         []                            \n",
            " )                                                                                                \n",
            "                                                                                                  \n",
            " f_net_encoder_10 (FNetEnco  (None, None, 270)            267522    ['positional_embedding_20[0][0\n",
            " der)                                                               ]']                           \n",
            "                                                                                                  \n",
            " outputs (Functional)        (None, None, 50000)          3142314   ['decoder_inputs[0][0]',      \n",
            "                                                          2          'f_net_encoder_10[0][0]']    \n",
            "                                                                                                  \n",
            "==================================================================================================\n",
            "Total params: 45201464 (172.43 MB)\n",
            "Trainable params: 45201464 (172.43 MB)\n",
            "Non-trainable params: 0 (0.00 Byte)\n",
            "__________________________________________________________________________________________________\n"
          ]
        },
        {
          "output_type": "execute_result",
          "data": {
            "image/png": "[encoded data removed]",
            "text/plain": [
              "<IPython.core.display.Image object>"
            ]
          },
          "metadata": {},
          "execution_count": 25
        }
      ]
    },
    {
      "cell_type": "code",
      "source": [
        "# Define callbacks\n",
        "log_dir = 'logs/fit/' + datetime.datetime.now().strftime('%Y%m%d-%H%M%S')\n",
        "\n",
        "callbacks = [\n",
        "    tf.keras.callbacks.EarlyStopping(monitor='val_perplexity', patience=5, mode='min',\n",
        "                                     verbose=1),\n",
        "    tf.keras.callbacks.ModelCheckpoint(filepath='tuned_model.tf', monitor='val_perplexity',\n",
        "                                       save_best_only=True, mode='min', verbose=1),\n",
        "    tf.keras.callbacks.ReduceLROnPlateau(monitor='val_perplexity', factor=0.1,\n",
        "                                         patience=1, min_lr=1e-10, mode='min', verbose=1),\n",
        "    tf.keras.callbacks.TensorBoard(log_dir=log_dir)\n",
        "]"
      ],
      "metadata": {
        "id": "ijHLe1G1F_nK"
      },
      "execution_count": 26,
      "outputs": []
    },
    {
      "cell_type": "markdown",
      "source": [
        "## Training the Model"
      ],
      "metadata": {
        "id": "VODpegW4r-a3"
      }
    },
    {
      "cell_type": "code",
      "source": [
        "# Train the rebuilt model\n",
        "EPOCHS = 30\n",
        "\n",
        "history_rebuilt_model = rebuilt_model.fit(train_dataset,\n",
        "                                          epochs=EPOCHS,\n",
        "                                          validation_data=val_dataset,\n",
        "                                          callbacks=callbacks)"
      ],
      "metadata": {
        "id": "TN37FNUHB_2i",
        "colab": {
          "base_uri": "https://localhost:8080/"
        },
        "outputId": "ee8ac684-b833-435d-e604-5fa3de2977d7"
      },
      "execution_count": 27,
      "outputs": [
        {
          "output_type": "stream",
          "name": "stdout",
          "text": [
            "Epoch 1/30\n"
          ]
        },
        {
          "output_type": "stream",
          "name": "stderr",
          "text": [
            "WARNING:tensorflow:You are casting an input of type complex64 to an incompatible dtype float32.  This will discard the imaginary part and may not be what you intended.\n",
            "WARNING:tensorflow:You are casting an input of type complex64 to an incompatible dtype float32.  This will discard the imaginary part and may not be what you intended.\n"
          ]
        },
        {
          "output_type": "stream",
          "name": "stdout",
          "text": [
            "1250/1250 [==============================] - ETA: 0s - loss: 5.2485 - perplexity: 254.7924\n",
            "Epoch 1: val_perplexity improved from inf to 115.84666, saving model to tuned_model.tf\n",
            "1250/1250 [==============================] - 262s 204ms/step - loss: 5.2485 - perplexity: 254.7924 - val_loss: 4.4261 - val_perplexity: 115.8467 - lr: 1.0562e-04\n",
            "Epoch 2/30\n",
            "1250/1250 [==============================] - ETA: 0s - loss: 4.3554 - perplexity: 106.9804\n",
            "Epoch 2: val_perplexity improved from 115.84666 to 96.71387, saving model to tuned_model.tf\n",
            "1250/1250 [==============================] - 241s 193ms/step - loss: 4.3554 - perplexity: 106.9804 - val_loss: 4.2573 - val_perplexity: 96.7139 - lr: 1.0562e-04\n",
            "Epoch 3/30\n",
            "1250/1250 [==============================] - ETA: 0s - loss: 4.1899 - perplexity: 89.6221\n",
            "Epoch 3: val_perplexity improved from 96.71387 to 89.45905, saving model to tuned_model.tf\n",
            "1250/1250 [==============================] - 241s 192ms/step - loss: 4.1899 - perplexity: 89.6221 - val_loss: 4.1846 - val_perplexity: 89.4591 - lr: 1.0562e-04\n",
            "Epoch 4/30\n",
            "1250/1250 [==============================] - ETA: 0s - loss: 4.0719 - perplexity: 78.9650\n",
            "Epoch 4: val_perplexity improved from 89.45905 to 85.05275, saving model to tuned_model.tf\n",
            "1250/1250 [==============================] - 240s 192ms/step - loss: 4.0719 - perplexity: 78.9650 - val_loss: 4.1376 - val_perplexity: 85.0527 - lr: 1.0562e-04\n",
            "Epoch 5/30\n",
            "1250/1250 [==============================] - ETA: 0s - loss: 3.9734 - perplexity: 71.0557\n",
            "Epoch 5: val_perplexity improved from 85.05275 to 82.84214, saving model to tuned_model.tf\n",
            "1250/1250 [==============================] - 240s 192ms/step - loss: 3.9734 - perplexity: 71.0557 - val_loss: 4.1131 - val_perplexity: 82.8421 - lr: 1.0562e-04\n",
            "Epoch 6/30\n",
            "1250/1250 [==============================] - ETA: 0s - loss: 3.8850 - perplexity: 64.6217\n",
            "Epoch 6: val_perplexity improved from 82.84214 to 82.62189, saving model to tuned_model.tf\n",
            "1250/1250 [==============================] - 239s 191ms/step - loss: 3.8850 - perplexity: 64.6217 - val_loss: 4.1106 - val_perplexity: 82.6219 - lr: 1.0562e-04\n",
            "Epoch 7/30\n",
            "1250/1250 [==============================] - ETA: 0s - loss: 3.8024 - perplexity: 59.1465\n",
            "Epoch 7: val_perplexity did not improve from 82.62189\n",
            "\n",
            "Epoch 7: ReduceLROnPlateau reducing learning rate to 1.0562499664956705e-05.\n",
            "1250/1250 [==============================] - 233s 187ms/step - loss: 3.8024 - perplexity: 59.1465 - val_loss: 4.1280 - val_perplexity: 84.1748 - lr: 1.0562e-04\n",
            "Epoch 8/30\n",
            "1250/1250 [==============================] - ETA: 0s - loss: 3.6851 - perplexity: 52.1502\n",
            "Epoch 8: val_perplexity did not improve from 82.62189\n",
            "\n",
            "Epoch 8: ReduceLROnPlateau reducing learning rate to 1.0562499483057764e-06.\n",
            "1250/1250 [==============================] - 233s 186ms/step - loss: 3.6851 - perplexity: 52.1502 - val_loss: 4.1307 - val_perplexity: 84.4118 - lr: 1.0562e-05\n",
            "Epoch 9/30\n",
            "1250/1250 [==============================] - ETA: 0s - loss: 3.6634 - perplexity: 50.9484\n",
            "Epoch 9: val_perplexity did not improve from 82.62189\n",
            "\n",
            "Epoch 9: ReduceLROnPlateau reducing learning rate to 1.056249971043144e-07.\n",
            "1250/1250 [==============================] - 233s 187ms/step - loss: 3.6634 - perplexity: 50.9484 - val_loss: 4.1310 - val_perplexity: 84.4366 - lr: 1.0562e-06\n",
            "Epoch 10/30\n",
            "1250/1250 [==============================] - ETA: 0s - loss: 3.6621 - perplexity: 50.8749\n",
            "Epoch 10: val_perplexity did not improve from 82.62189\n",
            "\n",
            "Epoch 10: ReduceLROnPlateau reducing learning rate to 1.0562499852539987e-08.\n",
            "1250/1250 [==============================] - 234s 187ms/step - loss: 3.6621 - perplexity: 50.8749 - val_loss: 4.1309 - val_perplexity: 84.4263 - lr: 1.0562e-07\n",
            "Epoch 11/30\n",
            "1250/1250 [==============================] - ETA: 0s - loss: 3.6612 - perplexity: 50.8283\n",
            "Epoch 11: val_perplexity did not improve from 82.62189\n",
            "\n",
            "Epoch 11: ReduceLROnPlateau reducing learning rate to 1.0562500207811354e-09.\n",
            "1250/1250 [==============================] - 233s 186ms/step - loss: 3.6612 - perplexity: 50.8283 - val_loss: 4.1309 - val_perplexity: 84.4314 - lr: 1.0563e-08\n",
            "Epoch 11: early stopping\n"
          ]
        }
      ]
    },
    {
      "cell_type": "code",
      "source": [
        "# Load the best saved model\n",
        "custom_objects = {\n",
        "    'FNetEncoder': FNetEncoder,\n",
        "    'PositionalEmbedding': PositionalEmbedding,\n",
        "    'FNetDecoder': FNetDecoder\n",
        "}\n",
        "\n",
        "best_tuned = models.load_model('tuned_model.tf', custom_objects=custom_objects)"
      ],
      "metadata": {
        "id": "xM13_IB5GOzh"
      },
      "execution_count": 28,
      "outputs": []
    },
    {
      "cell_type": "markdown",
      "source": [
        "## Metrics Evaluation & Plotting"
      ],
      "metadata": {
        "id": "H4vfARIPsGzv"
      }
    },
    {
      "cell_type": "code",
      "source": [
        "# Evaluating the model on the validation set\n",
        "tuned_loss, tuned_perplexity = best_tuned.evaluate(val_dataset)\n",
        "print(f'Validation Loss: {tuned_loss}')\n",
        "print(f'Validation Perplexity: {tuned_perplexity}')"
      ],
      "metadata": {
        "id": "qCGMp4AQGTUK",
        "colab": {
          "base_uri": "https://localhost:8080/"
        },
        "outputId": "1f3ac72f-5516-4f83-800f-d7be2f0793f8"
      },
      "execution_count": 29,
      "outputs": [
        {
          "output_type": "stream",
          "name": "stdout",
          "text": [
            "313/313 [==============================] - 26s 82ms/step - loss: 4.6262 - perplexity: 143.8432\n",
            "Validation Loss: 4.62623929977417\n",
            "Validation Perplexity: 143.84320068359375\n"
          ]
        }
      ]
    },
    {
      "cell_type": "code",
      "source": [
        "# Plot the history\n",
        "plot_training_history(history_rebuilt_model)"
      ],
      "metadata": {
        "id": "94Yk6-6rCRme",
        "colab": {
          "base_uri": "https://localhost:8080/",
          "height": 887
        },
        "outputId": "45e43a42-687e-47a3-94d0-2acc01141098"
      },
      "execution_count": 30,
      "outputs": [
        {
          "output_type": "display_data",
          "data": {
            "text/plain": [
              "<Figure size 640x480 with 1 Axes>"
            ],
            "image/png": "[encoded data removed]"
          },
          "metadata": {}
        },
        {
          "output_type": "display_data",
          "data": {
            "text/plain": [
              "<Figure size 640x480 with 1 Axes>"
            ],
            "image/png": "[encoded data removed]"
          },
          "metadata": {}
        }
      ]
    },
    {
      "cell_type": "markdown",
      "source": [
        "## Inferencing Phase"
      ],
      "metadata": {
        "id": "nuwUBoOcsKNR"
      }
    },
    {
      "cell_type": "code",
      "source": [
        "VOCAB = vectorizer.get_vocabulary()\n",
        "\n",
        "# Function to decode the input sequence with the model\n",
        "def decode_sequence(input_sequence):\n",
        "    # Map the inputs sequence to tokens and add the BOS and EOS tokens\n",
        "    tokenized_input_sequence = vectorizer(\n",
        "        tf.constant(\"[BOS] \" + preprocess_text(input_sequence) + \" [EOS]\")\n",
        "    )\n",
        "\n",
        "    # Initialize the sequence with only the BOS token\n",
        "    tokenized_target_sequence = tf.expand_dims(VOCAB.index(\"[BOS]\"), 0)\n",
        "    # Initialize the decoded sequence\n",
        "    decoded_sequence = \"\"\n",
        "\n",
        "    # Generate the sequence\n",
        "    for i in range(MAX_LENGTH):\n",
        "        # Get the model predictions\n",
        "        predictions = best_tuned.predict(\n",
        "            {\n",
        "                \"encoder_inputs\": tf.expand_dims(tokenized_input_sequence, 0),\n",
        "                \"decoder_inputs\": tf.expand_dims(\n",
        "                    tf.pad(\n",
        "                        tokenized_target_sequence,\n",
        "                        [[0, MAX_LENGTH - tf.shape(tokenized_target_sequence)[0]]],\n",
        "                    ),\n",
        "                    0,\n",
        "                ),\n",
        "            }\n",
        "        )\n",
        "        # Calculate the token with the highest probability\n",
        "        sampled_token_index = tf.argmax(predictions[0, i, :])\n",
        "        # Get the corresponding word\n",
        "        sampled_token = VOCAB[sampled_token_index.numpy()]\n",
        "        # If sampled token is EOS token, then stop generating\n",
        "        if tf.equal(sampled_token_index, VOCAB.index(\"[EOS]\")):\n",
        "            break\n",
        "        # Append the sampled token to the decoded sequence\n",
        "        decoded_sequence += sampled_token + \" \"\n",
        "        # Append the sampled token to the target sequence\n",
        "        tokenized_target_sequence = tf.concat(\n",
        "            [tokenized_target_sequence, [sampled_token_index]], 0\n",
        "        )\n",
        "\n",
        "    return decoded_sequence.strip()"
      ],
      "metadata": {
        "id": "1-PItXR4CYJ9"
      },
      "execution_count": 31,
      "outputs": []
    },
    {
      "cell_type": "code",
      "source": [
        "# Call the function\n",
        "print(decode_sequence(\"How are you doing today?\"))"
      ],
      "metadata": {
        "id": "x_zzNae5GvS1",
        "colab": {
          "base_uri": "https://localhost:8080/"
        },
        "outputId": "9e3af25b-f2b5-4078-e2ee-97c28a75d492"
      },
      "execution_count": 32,
      "outputs": [
        {
          "output_type": "stream",
          "name": "stdout",
          "text": [
            "1/1 [==============================] - 0s 484ms/step\n",
            "1/1 [==============================] - 0s 22ms/step\n",
            "1/1 [==============================] - 0s 23ms/step\n",
            "and .\n"
          ]
        }
      ]
    },
    {
      "cell_type": "code",
      "source": [
        "# Slightly revised function for decoding\n",
        "def decode_sequence(input_sequence):\n",
        "    # Preprocess and tokenize the input sequence\n",
        "    tokenized_input_sequence = vectorizer(tf.constant(preprocess_text(input_sequence)))\n",
        "\n",
        "    # Initialize the sequence with the BOS token index\n",
        "    tokenized_target_sequence = tf.convert_to_tensor([VOCAB.index(\"[BOS]\")], dtype=tf.int64)\n",
        "\n",
        "    # Initialize the decoded sequence\n",
        "    decoded_sequence = \"\"\n",
        "\n",
        "    # Generate the sequence\n",
        "    for i in range(MAX_LENGTH):\n",
        "        padded_target_sequence = tf.pad(\n",
        "            tokenized_target_sequence, [[0, MAX_LENGTH - tf.shape(tokenized_target_sequence)[0]]]\n",
        "        )\n",
        "\n",
        "        # Get the model predictions\n",
        "        predictions = best_tuned.predict({\n",
        "            \"encoder_inputs\": tf.expand_dims(tokenized_input_sequence, 0),\n",
        "            \"decoder_inputs\": tf.expand_dims(padded_target_sequence, 0)\n",
        "        })\n",
        "\n",
        "        # Calculate the token with the highest probability\n",
        "        sampled_token_index = tf.argmax(predictions[0, i, :]).numpy()\n",
        "        sampled_token = VOCAB[sampled_token_index]\n",
        "\n",
        "        # If sampled token is EOS token, then stop generating\n",
        "        if sampled_token == \"[EOS]\":\n",
        "            break\n",
        "\n",
        "        decoded_sequence += sampled_token + \" \"\n",
        "        tokenized_target_sequence = tf.concat([tokenized_target_sequence, [sampled_token_index]], 0)\n",
        "\n",
        "    return decoded_sequence.strip()\n",
        "\n",
        "# Call the function\n",
        "input_sequence = \"How are you doing today?\"\n",
        "print(decode_sequence(input_sequence))"
      ],
      "metadata": {
        "id": "3Kjq3svoG9Ou",
        "colab": {
          "base_uri": "https://localhost:8080/"
        },
        "outputId": "cb0225b9-579e-49cb-ef88-fcc5656243a0"
      },
      "execution_count": 33,
      "outputs": [
        {
          "output_type": "stream",
          "name": "stdout",
          "text": [
            "1/1 [==============================] - 0s 457ms/step\n",
            "1/1 [==============================] - 0s 23ms/step\n",
            "1/1 [==============================] - 0s 23ms/step\n",
            "and .\n"
          ]
        }
      ]
    }
  ]
}